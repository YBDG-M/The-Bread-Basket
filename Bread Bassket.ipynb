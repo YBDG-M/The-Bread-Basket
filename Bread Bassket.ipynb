{
  "cells": [
    {
      "cell_type": "markdown",
      "metadata": {
        "id": "-YGxtBkG2-3l"
      },
      "source": [
        "Yogi Bima Dwi Graha"
      ]
    },
    {
      "cell_type": "markdown",
      "metadata": {
        "id": "zCLPgWFR2dH2"
      },
      "source": [
        "# Import Library"
      ]
    },
    {
      "cell_type": "code",
      "execution_count": 4,
      "metadata": {
        "id": "1MS3w92J2d_a"
      },
      "outputs": [],
      "source": [
        "import pandas as pd\n",
        "import matplotlib.pyplot as plt\n",
        "import seaborn as sns\n",
        "import numpy as np\n",
        "import warnings\n",
        "warnings.filterwarnings(\"ignore\")"
      ]
    },
    {
      "cell_type": "markdown",
      "metadata": {
        "id": "eduAlGs_2tX2"
      },
      "source": [
        "# Data Exploration"
      ]
    },
    {
      "cell_type": "code",
      "execution_count": 5,
      "metadata": {
        "id": "m3vat5sj2uNA"
      },
      "outputs": [],
      "source": [
        "df = pd.read_csv('D:\\DATA ANALYST-DATA SCIENTIST\\MY PROJECT\\MACHINE-LEARNING\\The Bread Basket\\BreadBasket_DMS.csv')"
      ]
    },
    {
      "cell_type": "code",
      "execution_count": 6,
      "metadata": {
        "colab": {
          "base_uri": "https://localhost:8080/",
          "height": 206
        },
        "id": "4prfgreQ3mjX",
        "outputId": "d2af6b9a-c0d5-4875-f412-d8968f2fd795"
      },
      "outputs": [
        {
          "data": {
            "text/html": [
              "<div>\n",
              "<style scoped>\n",
              "    .dataframe tbody tr th:only-of-type {\n",
              "        vertical-align: middle;\n",
              "    }\n",
              "\n",
              "    .dataframe tbody tr th {\n",
              "        vertical-align: top;\n",
              "    }\n",
              "\n",
              "    .dataframe thead th {\n",
              "        text-align: right;\n",
              "    }\n",
              "</style>\n",
              "<table border=\"1\" class=\"dataframe\">\n",
              "  <thead>\n",
              "    <tr style=\"text-align: right;\">\n",
              "      <th></th>\n",
              "      <th>Date</th>\n",
              "      <th>Time</th>\n",
              "      <th>Transaction</th>\n",
              "      <th>Item</th>\n",
              "    </tr>\n",
              "  </thead>\n",
              "  <tbody>\n",
              "    <tr>\n",
              "      <th>0</th>\n",
              "      <td>2016-10-30</td>\n",
              "      <td>09:58:11</td>\n",
              "      <td>1</td>\n",
              "      <td>Bread</td>\n",
              "    </tr>\n",
              "    <tr>\n",
              "      <th>1</th>\n",
              "      <td>2016-10-30</td>\n",
              "      <td>10:05:34</td>\n",
              "      <td>2</td>\n",
              "      <td>Scandinavian</td>\n",
              "    </tr>\n",
              "    <tr>\n",
              "      <th>2</th>\n",
              "      <td>2016-10-30</td>\n",
              "      <td>10:05:34</td>\n",
              "      <td>2</td>\n",
              "      <td>Scandinavian</td>\n",
              "    </tr>\n",
              "    <tr>\n",
              "      <th>3</th>\n",
              "      <td>2016-10-30</td>\n",
              "      <td>10:07:57</td>\n",
              "      <td>3</td>\n",
              "      <td>Hot chocolate</td>\n",
              "    </tr>\n",
              "    <tr>\n",
              "      <th>4</th>\n",
              "      <td>2016-10-30</td>\n",
              "      <td>10:07:57</td>\n",
              "      <td>3</td>\n",
              "      <td>Jam</td>\n",
              "    </tr>\n",
              "  </tbody>\n",
              "</table>\n",
              "</div>"
            ],
            "text/plain": [
              "         Date      Time  Transaction           Item\n",
              "0  2016-10-30  09:58:11            1          Bread\n",
              "1  2016-10-30  10:05:34            2   Scandinavian\n",
              "2  2016-10-30  10:05:34            2   Scandinavian\n",
              "3  2016-10-30  10:07:57            3  Hot chocolate\n",
              "4  2016-10-30  10:07:57            3            Jam"
            ]
          },
          "execution_count": 6,
          "metadata": {},
          "output_type": "execute_result"
        }
      ],
      "source": [
        "df.head()"
      ]
    },
    {
      "cell_type": "code",
      "execution_count": 7,
      "metadata": {
        "id": "aQqr7_HV3pp0"
      },
      "outputs": [],
      "source": [
        "df['Date']=pd.to_datetime(df['Date'], format = \"%Y-%m-%d\")"
      ]
    },
    {
      "cell_type": "code",
      "execution_count": 8,
      "metadata": {
        "colab": {
          "base_uri": "https://localhost:8080/"
        },
        "id": "2joRZcWc3s6G",
        "outputId": "cc9b296a-9f38-4dd0-b5f0-50d7731ce528"
      },
      "outputs": [
        {
          "data": {
            "text/plain": [
              "dtype('<M8[ns]')"
            ]
          },
          "execution_count": 8,
          "metadata": {},
          "output_type": "execute_result"
        }
      ],
      "source": [
        "df['Time'].dtype\n",
        "df['Date'].dtype"
      ]
    },
    {
      "cell_type": "code",
      "execution_count": 9,
      "metadata": {
        "id": "BlWY3jpz3wBg"
      },
      "outputs": [],
      "source": [
        "df['month']=df['Date'].dt.month\n",
        "df['day']=df['Date'].dt.weekday\n",
        "df['year']=df['Date'].dt.year"
      ]
    },
    {
      "cell_type": "code",
      "execution_count": 10,
      "metadata": {
        "colab": {
          "base_uri": "https://localhost:8080/",
          "height": 206
        },
        "id": "W2ialPDN3yyT",
        "outputId": "6e510e0d-a973-4485-95d6-c48ce4049d96"
      },
      "outputs": [
        {
          "data": {
            "text/html": [
              "<div>\n",
              "<style scoped>\n",
              "    .dataframe tbody tr th:only-of-type {\n",
              "        vertical-align: middle;\n",
              "    }\n",
              "\n",
              "    .dataframe tbody tr th {\n",
              "        vertical-align: top;\n",
              "    }\n",
              "\n",
              "    .dataframe thead th {\n",
              "        text-align: right;\n",
              "    }\n",
              "</style>\n",
              "<table border=\"1\" class=\"dataframe\">\n",
              "  <thead>\n",
              "    <tr style=\"text-align: right;\">\n",
              "      <th></th>\n",
              "      <th>Date</th>\n",
              "      <th>Time</th>\n",
              "      <th>Transaction</th>\n",
              "      <th>Item</th>\n",
              "      <th>month</th>\n",
              "      <th>day</th>\n",
              "      <th>year</th>\n",
              "    </tr>\n",
              "  </thead>\n",
              "  <tbody>\n",
              "    <tr>\n",
              "      <th>0</th>\n",
              "      <td>2016-10-30</td>\n",
              "      <td>09:58:11</td>\n",
              "      <td>1</td>\n",
              "      <td>Bread</td>\n",
              "      <td>10</td>\n",
              "      <td>6</td>\n",
              "      <td>2016</td>\n",
              "    </tr>\n",
              "    <tr>\n",
              "      <th>1</th>\n",
              "      <td>2016-10-30</td>\n",
              "      <td>10:05:34</td>\n",
              "      <td>2</td>\n",
              "      <td>Scandinavian</td>\n",
              "      <td>10</td>\n",
              "      <td>6</td>\n",
              "      <td>2016</td>\n",
              "    </tr>\n",
              "    <tr>\n",
              "      <th>2</th>\n",
              "      <td>2016-10-30</td>\n",
              "      <td>10:05:34</td>\n",
              "      <td>2</td>\n",
              "      <td>Scandinavian</td>\n",
              "      <td>10</td>\n",
              "      <td>6</td>\n",
              "      <td>2016</td>\n",
              "    </tr>\n",
              "    <tr>\n",
              "      <th>3</th>\n",
              "      <td>2016-10-30</td>\n",
              "      <td>10:07:57</td>\n",
              "      <td>3</td>\n",
              "      <td>Hot chocolate</td>\n",
              "      <td>10</td>\n",
              "      <td>6</td>\n",
              "      <td>2016</td>\n",
              "    </tr>\n",
              "    <tr>\n",
              "      <th>4</th>\n",
              "      <td>2016-10-30</td>\n",
              "      <td>10:07:57</td>\n",
              "      <td>3</td>\n",
              "      <td>Jam</td>\n",
              "      <td>10</td>\n",
              "      <td>6</td>\n",
              "      <td>2016</td>\n",
              "    </tr>\n",
              "  </tbody>\n",
              "</table>\n",
              "</div>"
            ],
            "text/plain": [
              "        Date      Time  Transaction           Item  month  day  year\n",
              "0 2016-10-30  09:58:11            1          Bread     10    6  2016\n",
              "1 2016-10-30  10:05:34            2   Scandinavian     10    6  2016\n",
              "2 2016-10-30  10:05:34            2   Scandinavian     10    6  2016\n",
              "3 2016-10-30  10:07:57            3  Hot chocolate     10    6  2016\n",
              "4 2016-10-30  10:07:57            3            Jam     10    6  2016"
            ]
          },
          "execution_count": 10,
          "metadata": {},
          "output_type": "execute_result"
        }
      ],
      "source": [
        "df.head()"
      ]
    },
    {
      "cell_type": "markdown",
      "metadata": {
        "id": "WFs3USVe36n0"
      },
      "source": [
        "# EDA"
      ]
    },
    {
      "cell_type": "code",
      "execution_count": 11,
      "metadata": {
        "colab": {
          "base_uri": "https://localhost:8080/",
          "height": 0
        },
        "id": "-jBj8B9a37iM",
        "outputId": "643ee47d-1490-4e78-d377-585bbe32cc64"
      },
      "outputs": [
        {
          "data": {
            "text/plain": [
              "(array([0, 1, 2, 3, 4, 5, 6, 7, 8, 9]),\n",
              " [Text(0, 0, '2017-02-04 00:00:00'),\n",
              "  Text(1, 0, '2016-11-05 00:00:00'),\n",
              "  Text(2, 0, '2017-03-04 00:00:00'),\n",
              "  Text(3, 0, '2017-03-25 00:00:00'),\n",
              "  Text(4, 0, '2017-01-28 00:00:00'),\n",
              "  Text(5, 0, '2017-02-18 00:00:00'),\n",
              "  Text(6, 0, '2016-11-12 00:00:00'),\n",
              "  Text(7, 0, '2016-11-19 00:00:00'),\n",
              "  Text(8, 0, '2017-03-11 00:00:00'),\n",
              "  Text(9, 0, '2017-04-08 00:00:00')])"
            ]
          },
          "execution_count": 11,
          "metadata": {},
          "output_type": "execute_result"
        },
        {
          "data": {
            "image/png": "[encoded data removed]",
            "text/plain": [
              "<Figure size 640x480 with 1 Axes>"
            ]
          },
          "metadata": {},
          "output_type": "display_data"
        }
      ],
      "source": [
        "sns.countplot(x = 'Date', data = df, order = df['Date'].value_counts().iloc[:10].index)\n",
        "plt.xticks(rotation=45)"
      ]
    },
    {
      "cell_type": "markdown",
      "metadata": {
        "id": "cMlwbE0n4FYu"
      },
      "source": [
        "Dari grafik diatas menunjukkan bahwa data penjualan terbanyak adalah pada tanggal 2017-04-02"
      ]
    },
    {
      "cell_type": "code",
      "execution_count": 12,
      "metadata": {
        "colab": {
          "base_uri": "https://localhost:8080/",
          "height": 0
        },
        "id": "kme56mVr4GKt",
        "outputId": "c8339a4e-f78a-4ad7-c2d8-3b9b149fb92a"
      },
      "outputs": [
        {
          "data": {
            "text/plain": [
              "(array([ 0,  1,  2,  3,  4,  5,  6,  7,  8,  9, 10, 11, 12, 13, 14, 15, 16,\n",
              "        17, 18, 19, 20, 21, 22, 23, 24]),\n",
              " [Text(0, 0, '12:07:39'),\n",
              "  Text(1, 0, '10:45:21'),\n",
              "  Text(2, 0, '10:55:19'),\n",
              "  Text(3, 0, '14:38:01'),\n",
              "  Text(4, 0, '15:09:18'),\n",
              "  Text(5, 0, '14:35:34'),\n",
              "  Text(6, 0, '13:43:08'),\n",
              "  Text(7, 0, '14:19:47'),\n",
              "  Text(8, 0, '15:26:25'),\n",
              "  Text(9, 0, '13:44:56'),\n",
              "  Text(10, 0, '14:14:17'),\n",
              "  Text(11, 0, '15:46:51'),\n",
              "  Text(12, 0, '12:45:14'),\n",
              "  Text(13, 0, '14:08:27'),\n",
              "  Text(14, 0, '13:08:30'),\n",
              "  Text(15, 0, '13:14:04'),\n",
              "  Text(16, 0, '12:58:48'),\n",
              "  Text(17, 0, '15:35:06'),\n",
              "  Text(18, 0, '12:07:19'),\n",
              "  Text(19, 0, '14:18:20'),\n",
              "  Text(20, 0, '12:16:32'),\n",
              "  Text(21, 0, '13:41:06'),\n",
              "  Text(22, 0, '12:49:53'),\n",
              "  Text(23, 0, '16:09:51'),\n",
              "  Text(24, 0, '13:19:35')])"
            ]
          },
          "execution_count": 12,
          "metadata": {},
          "output_type": "execute_result"
        },
        {
          "data": {
            "image/png": "[encoded data removed]",
            "text/plain": [
              "<Figure size 640x480 with 1 Axes>"
            ]
          },
          "metadata": {},
          "output_type": "display_data"
        }
      ],
      "source": [
        "sns.countplot(x = 'Time', data = df, order = df['Time'].value_counts().iloc[:25].index)\n",
        "plt.xticks(rotation=90)"
      ]
    },
    {
      "cell_type": "markdown",
      "metadata": {
        "id": "aTG8Wz6I4L0K"
      },
      "source": [
        "Dari grafik diatas menunjukkan bahwa data penjualan terbanyak adalah pada jam 12:07:39"
      ]
    },
    {
      "cell_type": "code",
      "execution_count": 13,
      "metadata": {
        "colab": {
          "base_uri": "https://localhost:8080/",
          "height": 0
        },
        "id": "EoVh5od34OyR",
        "outputId": "ae0e51df-d880-450c-d5c9-679a9afd7143"
      },
      "outputs": [
        {
          "data": {
            "text/plain": [
              "<Axes: xlabel='Item', ylabel='count'>"
            ]
          },
          "execution_count": 13,
          "metadata": {},
          "output_type": "execute_result"
        },
        {
          "data": {
            "image/png": "[encoded data removed]",
            "text/plain": [
              "<Figure size 640x480 with 1 Axes>"
            ]
          },
          "metadata": {},
          "output_type": "display_data"
        }
      ],
      "source": [
        "plt.xticks(rotation=45)\n",
        "sns.countplot(x = 'Item', data = df, order = df['Item'].value_counts().iloc[:10].index)"
      ]
    },
    {
      "cell_type": "markdown",
      "metadata": {
        "id": "ufS9faUC4YNe"
      },
      "source": [
        "Dari grafik diatas menunjukkan bahwa data penjualan terbanyak adalah pada item coffee"
      ]
    },
    {
      "cell_type": "code",
      "execution_count": 14,
      "metadata": {
        "colab": {
          "base_uri": "https://localhost:8080/",
          "height": 0
        },
        "id": "LzERng2q4ZIo",
        "outputId": "50684de2-1030-480c-d34c-dceb9286d0c6"
      },
      "outputs": [
        {
          "data": {
            "text/plain": [
              "[Text(0, 0, '1 / 2017'),\n",
              " Text(1, 0, '2 / 2017'),\n",
              " Text(2, 0, '3 / 2017'),\n",
              " Text(3, 0, '4 / 2017'),\n",
              " Text(4, 0, '10 / 2016'),\n",
              " Text(5, 0, '11 / 2016'),\n",
              " Text(6, 0, '12 / 2016')]"
            ]
          },
          "execution_count": 14,
          "metadata": {},
          "output_type": "execute_result"
        },
        {
          "data": {
            "image/png": "[encoded data removed]",
            "text/plain": [
              "<Figure size 500x400 with 1 Axes>"
            ]
          },
          "metadata": {},
          "output_type": "display_data"
        }
      ],
      "source": [
        "month_year=df.copy()\n",
        "month_year['Date']=pd.to_datetime(month_year['Date'])\n",
        "month_year['Month'],month_year['Year']=month_year['Date'].dt.month,month_year['Date'].dt.year\n",
        "\n",
        "grp_month_year=month_year.groupby(['Month','Year'])['Transaction'].count().reset_index()\n",
        "grp_month_year['Period'] = grp_month_year.Month.astype(str).str.cat(grp_month_year.Year.astype(str), sep=' / ')\n",
        "\n",
        "#plot graph for each month of the year 2016,2017\n",
        "fig,axis=plt.subplots(figsize=(5,4))\n",
        "axis=sns.barplot(data=grp_month_year,x='Period',y='Transaction',color = (\"#FC4E07\"))\n",
        "axis.set_xlabel('Month & Year')\n",
        "axis.set_ylabel('Number of Transarctions')\n",
        "axis.set_xticklabels(grp_month_year['Period'], rotation=60)"
      ]
    },
    {
      "cell_type": "markdown",
      "metadata": {
        "id": "3-DKN20k4cEZ"
      },
      "source": [
        "Dari grafik diatas menunjukkan bahwa data penjualan terbanyak adalah pada tahun 2016"
      ]
    },
    {
      "cell_type": "code",
      "execution_count": 15,
      "metadata": {
        "colab": {
          "base_uri": "https://localhost:8080/",
          "height": 0
        },
        "id": "-0x_jjtX4enK",
        "outputId": "3575c4f1-7bb2-44ce-8a2a-744ab7bfa7d5"
      },
      "outputs": [
        {
          "data": {
            "text/plain": [
              "Text(0.5, 1.0, 'Total Transaksi Perhari')"
            ]
          },
          "execution_count": 15,
          "metadata": {},
          "output_type": "execute_result"
        },
        {
          "data": {
            "image/png": "[encoded data removed]",
            "text/plain": [
              "<Figure size 800x500 with 1 Axes>"
            ]
          },
          "metadata": {},
          "output_type": "display_data"
        }
      ],
      "source": [
        "data_perday = df.groupby('day')['Transaction'].count()\n",
        "\n",
        "plt.figure(figsize= (8,5))\n",
        "sns.barplot(\n",
        "    x=['Monday','Tuesday','Wednesday','Thursday','Friday','Saturday', 'Sunday'],\n",
        "    y=data_perday.values, color=\"#f542d7\")\n",
        "plt.xticks(size = 12, rotation = 30)\n",
        "plt.title('Total Transaksi Perhari')"
      ]
    },
    {
      "cell_type": "markdown",
      "metadata": {
        "id": "7ECyB-Ce4h4h"
      },
      "source": [
        "Dari grafik diatas menunjukkan bahwa data penjualan terbanyak adalah pada hari sabtu"
      ]
    },
    {
      "cell_type": "markdown",
      "metadata": {
        "id": "q0c7Mhk64pVe"
      },
      "source": [
        "# Data Preparation"
      ]
    },
    {
      "cell_type": "code",
      "execution_count": 16,
      "metadata": {
        "id": "gKenIkEb4sBT"
      },
      "outputs": [],
      "source": [
        "df['Item'] = df['Item'].apply(lambda item: item.lower())\n",
        "df['Item'] = df['Item'].apply(lambda item: item.strip())"
      ]
    },
    {
      "cell_type": "code",
      "execution_count": 17,
      "metadata": {
        "colab": {
          "base_uri": "https://localhost:8080/",
          "height": 0
        },
        "id": "EgSQOL7L4vX2",
        "outputId": "e1ce7f28-5d61-425e-aab6-5058976471bb"
      },
      "outputs": [
        {
          "data": {
            "text/html": [
              "<div>\n",
              "<style scoped>\n",
              "    .dataframe tbody tr th:only-of-type {\n",
              "        vertical-align: middle;\n",
              "    }\n",
              "\n",
              "    .dataframe tbody tr th {\n",
              "        vertical-align: top;\n",
              "    }\n",
              "\n",
              "    .dataframe thead th {\n",
              "        text-align: right;\n",
              "    }\n",
              "</style>\n",
              "<table border=\"1\" class=\"dataframe\">\n",
              "  <thead>\n",
              "    <tr style=\"text-align: right;\">\n",
              "      <th></th>\n",
              "      <th>Transaction</th>\n",
              "      <th>Item</th>\n",
              "    </tr>\n",
              "  </thead>\n",
              "  <tbody>\n",
              "    <tr>\n",
              "      <th>0</th>\n",
              "      <td>1</td>\n",
              "      <td>bread</td>\n",
              "    </tr>\n",
              "    <tr>\n",
              "      <th>1</th>\n",
              "      <td>2</td>\n",
              "      <td>scandinavian</td>\n",
              "    </tr>\n",
              "    <tr>\n",
              "      <th>2</th>\n",
              "      <td>2</td>\n",
              "      <td>scandinavian</td>\n",
              "    </tr>\n",
              "    <tr>\n",
              "      <th>3</th>\n",
              "      <td>3</td>\n",
              "      <td>hot chocolate</td>\n",
              "    </tr>\n",
              "    <tr>\n",
              "      <th>4</th>\n",
              "      <td>3</td>\n",
              "      <td>jam</td>\n",
              "    </tr>\n",
              "    <tr>\n",
              "      <th>5</th>\n",
              "      <td>3</td>\n",
              "      <td>cookies</td>\n",
              "    </tr>\n",
              "    <tr>\n",
              "      <th>6</th>\n",
              "      <td>4</td>\n",
              "      <td>muffin</td>\n",
              "    </tr>\n",
              "    <tr>\n",
              "      <th>7</th>\n",
              "      <td>5</td>\n",
              "      <td>coffee</td>\n",
              "    </tr>\n",
              "    <tr>\n",
              "      <th>8</th>\n",
              "      <td>5</td>\n",
              "      <td>pastry</td>\n",
              "    </tr>\n",
              "    <tr>\n",
              "      <th>9</th>\n",
              "      <td>5</td>\n",
              "      <td>bread</td>\n",
              "    </tr>\n",
              "  </tbody>\n",
              "</table>\n",
              "</div>"
            ],
            "text/plain": [
              "   Transaction           Item\n",
              "0            1          bread\n",
              "1            2   scandinavian\n",
              "2            2   scandinavian\n",
              "3            3  hot chocolate\n",
              "4            3            jam\n",
              "5            3        cookies\n",
              "6            4         muffin\n",
              "7            5         coffee\n",
              "8            5         pastry\n",
              "9            5          bread"
            ]
          },
          "execution_count": 17,
          "metadata": {},
          "output_type": "execute_result"
        }
      ],
      "source": [
        "df = df[['Transaction','Item']].copy()\n",
        "df.head(10)"
      ]
    },
    {
      "cell_type": "code",
      "execution_count": 18,
      "metadata": {
        "id": "S3DhN5Tl4yXE"
      },
      "outputs": [],
      "source": [
        "from mlxtend.frequent_patterns import association_rules, apriori"
      ]
    },
    {
      "cell_type": "code",
      "execution_count": 19,
      "metadata": {
        "colab": {
          "base_uri": "https://localhost:8080/",
          "height": 0
        },
        "id": "6HTynWFK62g_",
        "outputId": "c50d85fe-5e1d-4263-8d1d-b629026b2e18"
      },
      "outputs": [
        {
          "data": {
            "text/html": [
              "<div>\n",
              "<style scoped>\n",
              "    .dataframe tbody tr th:only-of-type {\n",
              "        vertical-align: middle;\n",
              "    }\n",
              "\n",
              "    .dataframe tbody tr th {\n",
              "        vertical-align: top;\n",
              "    }\n",
              "\n",
              "    .dataframe thead th {\n",
              "        text-align: right;\n",
              "    }\n",
              "</style>\n",
              "<table border=\"1\" class=\"dataframe\">\n",
              "  <thead>\n",
              "    <tr style=\"text-align: right;\">\n",
              "      <th></th>\n",
              "      <th>Transaction</th>\n",
              "      <th>Item</th>\n",
              "      <th>Count</th>\n",
              "    </tr>\n",
              "  </thead>\n",
              "  <tbody>\n",
              "    <tr>\n",
              "      <th>0</th>\n",
              "      <td>1</td>\n",
              "      <td>bread</td>\n",
              "      <td>1</td>\n",
              "    </tr>\n",
              "    <tr>\n",
              "      <th>1</th>\n",
              "      <td>2</td>\n",
              "      <td>scandinavian</td>\n",
              "      <td>2</td>\n",
              "    </tr>\n",
              "    <tr>\n",
              "      <th>2</th>\n",
              "      <td>3</td>\n",
              "      <td>cookies</td>\n",
              "      <td>1</td>\n",
              "    </tr>\n",
              "    <tr>\n",
              "      <th>3</th>\n",
              "      <td>3</td>\n",
              "      <td>hot chocolate</td>\n",
              "      <td>1</td>\n",
              "    </tr>\n",
              "    <tr>\n",
              "      <th>4</th>\n",
              "      <td>3</td>\n",
              "      <td>jam</td>\n",
              "      <td>1</td>\n",
              "    </tr>\n",
              "    <tr>\n",
              "      <th>5</th>\n",
              "      <td>4</td>\n",
              "      <td>muffin</td>\n",
              "      <td>1</td>\n",
              "    </tr>\n",
              "    <tr>\n",
              "      <th>6</th>\n",
              "      <td>5</td>\n",
              "      <td>bread</td>\n",
              "      <td>1</td>\n",
              "    </tr>\n",
              "    <tr>\n",
              "      <th>7</th>\n",
              "      <td>5</td>\n",
              "      <td>coffee</td>\n",
              "      <td>1</td>\n",
              "    </tr>\n",
              "    <tr>\n",
              "      <th>8</th>\n",
              "      <td>5</td>\n",
              "      <td>pastry</td>\n",
              "      <td>1</td>\n",
              "    </tr>\n",
              "    <tr>\n",
              "      <th>9</th>\n",
              "      <td>6</td>\n",
              "      <td>medialuna</td>\n",
              "      <td>1</td>\n",
              "    </tr>\n",
              "  </tbody>\n",
              "</table>\n",
              "</div>"
            ],
            "text/plain": [
              "   Transaction           Item  Count\n",
              "0            1          bread      1\n",
              "1            2   scandinavian      2\n",
              "2            3        cookies      1\n",
              "3            3  hot chocolate      1\n",
              "4            3            jam      1\n",
              "5            4         muffin      1\n",
              "6            5          bread      1\n",
              "7            5         coffee      1\n",
              "8            5         pastry      1\n",
              "9            6      medialuna      1"
            ]
          },
          "execution_count": 19,
          "metadata": {},
          "output_type": "execute_result"
        }
      ],
      "source": [
        "item_count = df.groupby([\"Transaction\",\"Item\"])[\"Item\"].count().reset_index(name=\"Count\")\n",
        "item_count.head(10)"
      ]
    },
    {
      "cell_type": "code",
      "execution_count": 20,
      "metadata": {
        "colab": {
          "base_uri": "https://localhost:8080/",
          "height": 0
        },
        "id": "P5dOEAjl64d-",
        "outputId": "63befa8c-52d1-479f-a328-5344fd3a1ed0"
      },
      "outputs": [
        {
          "name": "stdout",
          "output_type": "stream",
          "text": [
            "Ukuran Dataset (9531, 95)\n"
          ]
        },
        {
          "data": {
            "text/html": [
              "<div>\n",
              "<style scoped>\n",
              "    .dataframe tbody tr th:only-of-type {\n",
              "        vertical-align: middle;\n",
              "    }\n",
              "\n",
              "    .dataframe tbody tr th {\n",
              "        vertical-align: top;\n",
              "    }\n",
              "\n",
              "    .dataframe thead th {\n",
              "        text-align: right;\n",
              "    }\n",
              "</style>\n",
              "<table border=\"1\" class=\"dataframe\">\n",
              "  <thead>\n",
              "    <tr style=\"text-align: right;\">\n",
              "      <th>Item</th>\n",
              "      <th>adjustment</th>\n",
              "      <th>afternoon with the baker</th>\n",
              "      <th>alfajores</th>\n",
              "      <th>argentina night</th>\n",
              "      <th>art tray</th>\n",
              "      <th>bacon</th>\n",
              "      <th>baguette</th>\n",
              "      <th>bakewell</th>\n",
              "      <th>bare popcorn</th>\n",
              "      <th>basket</th>\n",
              "      <th>...</th>\n",
              "      <th>the bart</th>\n",
              "      <th>the nomad</th>\n",
              "      <th>tiffin</th>\n",
              "      <th>toast</th>\n",
              "      <th>truffles</th>\n",
              "      <th>tshirt</th>\n",
              "      <th>valentine's card</th>\n",
              "      <th>vegan feast</th>\n",
              "      <th>vegan mincepie</th>\n",
              "      <th>victorian sponge</th>\n",
              "    </tr>\n",
              "    <tr>\n",
              "      <th>Transaction</th>\n",
              "      <th></th>\n",
              "      <th></th>\n",
              "      <th></th>\n",
              "      <th></th>\n",
              "      <th></th>\n",
              "      <th></th>\n",
              "      <th></th>\n",
              "      <th></th>\n",
              "      <th></th>\n",
              "      <th></th>\n",
              "      <th></th>\n",
              "      <th></th>\n",
              "      <th></th>\n",
              "      <th></th>\n",
              "      <th></th>\n",
              "      <th></th>\n",
              "      <th></th>\n",
              "      <th></th>\n",
              "      <th></th>\n",
              "      <th></th>\n",
              "      <th></th>\n",
              "    </tr>\n",
              "  </thead>\n",
              "  <tbody>\n",
              "    <tr>\n",
              "      <th>1</th>\n",
              "      <td>0.0</td>\n",
              "      <td>0.0</td>\n",
              "      <td>0.0</td>\n",
              "      <td>0.0</td>\n",
              "      <td>0.0</td>\n",
              "      <td>0.0</td>\n",
              "      <td>0.0</td>\n",
              "      <td>0.0</td>\n",
              "      <td>0.0</td>\n",
              "      <td>0.0</td>\n",
              "      <td>...</td>\n",
              "      <td>0.0</td>\n",
              "      <td>0.0</td>\n",
              "      <td>0.0</td>\n",
              "      <td>0.0</td>\n",
              "      <td>0.0</td>\n",
              "      <td>0.0</td>\n",
              "      <td>0.0</td>\n",
              "      <td>0.0</td>\n",
              "      <td>0.0</td>\n",
              "      <td>0.0</td>\n",
              "    </tr>\n",
              "    <tr>\n",
              "      <th>2</th>\n",
              "      <td>0.0</td>\n",
              "      <td>0.0</td>\n",
              "      <td>0.0</td>\n",
              "      <td>0.0</td>\n",
              "      <td>0.0</td>\n",
              "      <td>0.0</td>\n",
              "      <td>0.0</td>\n",
              "      <td>0.0</td>\n",
              "      <td>0.0</td>\n",
              "      <td>0.0</td>\n",
              "      <td>...</td>\n",
              "      <td>0.0</td>\n",
              "      <td>0.0</td>\n",
              "      <td>0.0</td>\n",
              "      <td>0.0</td>\n",
              "      <td>0.0</td>\n",
              "      <td>0.0</td>\n",
              "      <td>0.0</td>\n",
              "      <td>0.0</td>\n",
              "      <td>0.0</td>\n",
              "      <td>0.0</td>\n",
              "    </tr>\n",
              "    <tr>\n",
              "      <th>3</th>\n",
              "      <td>0.0</td>\n",
              "      <td>0.0</td>\n",
              "      <td>0.0</td>\n",
              "      <td>0.0</td>\n",
              "      <td>0.0</td>\n",
              "      <td>0.0</td>\n",
              "      <td>0.0</td>\n",
              "      <td>0.0</td>\n",
              "      <td>0.0</td>\n",
              "      <td>0.0</td>\n",
              "      <td>...</td>\n",
              "      <td>0.0</td>\n",
              "      <td>0.0</td>\n",
              "      <td>0.0</td>\n",
              "      <td>0.0</td>\n",
              "      <td>0.0</td>\n",
              "      <td>0.0</td>\n",
              "      <td>0.0</td>\n",
              "      <td>0.0</td>\n",
              "      <td>0.0</td>\n",
              "      <td>0.0</td>\n",
              "    </tr>\n",
              "    <tr>\n",
              "      <th>4</th>\n",
              "      <td>0.0</td>\n",
              "      <td>0.0</td>\n",
              "      <td>0.0</td>\n",
              "      <td>0.0</td>\n",
              "      <td>0.0</td>\n",
              "      <td>0.0</td>\n",
              "      <td>0.0</td>\n",
              "      <td>0.0</td>\n",
              "      <td>0.0</td>\n",
              "      <td>0.0</td>\n",
              "      <td>...</td>\n",
              "      <td>0.0</td>\n",
              "      <td>0.0</td>\n",
              "      <td>0.0</td>\n",
              "      <td>0.0</td>\n",
              "      <td>0.0</td>\n",
              "      <td>0.0</td>\n",
              "      <td>0.0</td>\n",
              "      <td>0.0</td>\n",
              "      <td>0.0</td>\n",
              "      <td>0.0</td>\n",
              "    </tr>\n",
              "    <tr>\n",
              "      <th>5</th>\n",
              "      <td>0.0</td>\n",
              "      <td>0.0</td>\n",
              "      <td>0.0</td>\n",
              "      <td>0.0</td>\n",
              "      <td>0.0</td>\n",
              "      <td>0.0</td>\n",
              "      <td>0.0</td>\n",
              "      <td>0.0</td>\n",
              "      <td>0.0</td>\n",
              "      <td>0.0</td>\n",
              "      <td>...</td>\n",
              "      <td>0.0</td>\n",
              "      <td>0.0</td>\n",
              "      <td>0.0</td>\n",
              "      <td>0.0</td>\n",
              "      <td>0.0</td>\n",
              "      <td>0.0</td>\n",
              "      <td>0.0</td>\n",
              "      <td>0.0</td>\n",
              "      <td>0.0</td>\n",
              "      <td>0.0</td>\n",
              "    </tr>\n",
              "  </tbody>\n",
              "</table>\n",
              "<p>5 rows × 95 columns</p>\n",
              "</div>"
            ],
            "text/plain": [
              "Item         adjustment  afternoon with the baker  alfajores  argentina night  \\\n",
              "Transaction                                                                     \n",
              "1                   0.0                       0.0        0.0              0.0   \n",
              "2                   0.0                       0.0        0.0              0.0   \n",
              "3                   0.0                       0.0        0.0              0.0   \n",
              "4                   0.0                       0.0        0.0              0.0   \n",
              "5                   0.0                       0.0        0.0              0.0   \n",
              "\n",
              "Item         art tray  bacon  baguette  bakewell  bare popcorn  basket  ...  \\\n",
              "Transaction                                                             ...   \n",
              "1                 0.0    0.0       0.0       0.0           0.0     0.0  ...   \n",
              "2                 0.0    0.0       0.0       0.0           0.0     0.0  ...   \n",
              "3                 0.0    0.0       0.0       0.0           0.0     0.0  ...   \n",
              "4                 0.0    0.0       0.0       0.0           0.0     0.0  ...   \n",
              "5                 0.0    0.0       0.0       0.0           0.0     0.0  ...   \n",
              "\n",
              "Item         the bart  the nomad  tiffin  toast  truffles  tshirt  \\\n",
              "Transaction                                                         \n",
              "1                 0.0        0.0     0.0    0.0       0.0     0.0   \n",
              "2                 0.0        0.0     0.0    0.0       0.0     0.0   \n",
              "3                 0.0        0.0     0.0    0.0       0.0     0.0   \n",
              "4                 0.0        0.0     0.0    0.0       0.0     0.0   \n",
              "5                 0.0        0.0     0.0    0.0       0.0     0.0   \n",
              "\n",
              "Item         valentine's card  vegan feast  vegan mincepie  victorian sponge  \n",
              "Transaction                                                                   \n",
              "1                         0.0          0.0             0.0               0.0  \n",
              "2                         0.0          0.0             0.0               0.0  \n",
              "3                         0.0          0.0             0.0               0.0  \n",
              "4                         0.0          0.0             0.0               0.0  \n",
              "5                         0.0          0.0             0.0               0.0  \n",
              "\n",
              "[5 rows x 95 columns]"
            ]
          },
          "execution_count": 20,
          "metadata": {},
          "output_type": "execute_result"
        }
      ],
      "source": [
        "item_count_pivot = item_count.pivot_table(index='Transaction', columns= 'Item', values = 'Count', aggfunc = 'sum').fillna(0)\n",
        "print(\"Ukuran Dataset\", item_count_pivot.shape)\n",
        "item_count_pivot.head(5)"
      ]
    },
    {
      "cell_type": "code",
      "execution_count": 21,
      "metadata": {
        "colab": {
          "base_uri": "https://localhost:8080/",
          "height": 0
        },
        "id": "cWGZs5rC68Wt",
        "outputId": "5df8c572-15ee-4e9e-fbff-3019fac720be"
      },
      "outputs": [
        {
          "data": {
            "text/html": [
              "<div>\n",
              "<style scoped>\n",
              "    .dataframe tbody tr th:only-of-type {\n",
              "        vertical-align: middle;\n",
              "    }\n",
              "\n",
              "    .dataframe tbody tr th {\n",
              "        vertical-align: top;\n",
              "    }\n",
              "\n",
              "    .dataframe thead th {\n",
              "        text-align: right;\n",
              "    }\n",
              "</style>\n",
              "<table border=\"1\" class=\"dataframe\">\n",
              "  <thead>\n",
              "    <tr style=\"text-align: right;\">\n",
              "      <th>Item</th>\n",
              "      <th>adjustment</th>\n",
              "      <th>afternoon with the baker</th>\n",
              "      <th>alfajores</th>\n",
              "      <th>argentina night</th>\n",
              "      <th>art tray</th>\n",
              "      <th>bacon</th>\n",
              "      <th>baguette</th>\n",
              "      <th>bakewell</th>\n",
              "      <th>bare popcorn</th>\n",
              "      <th>basket</th>\n",
              "      <th>...</th>\n",
              "      <th>the bart</th>\n",
              "      <th>the nomad</th>\n",
              "      <th>tiffin</th>\n",
              "      <th>toast</th>\n",
              "      <th>truffles</th>\n",
              "      <th>tshirt</th>\n",
              "      <th>valentine's card</th>\n",
              "      <th>vegan feast</th>\n",
              "      <th>vegan mincepie</th>\n",
              "      <th>victorian sponge</th>\n",
              "    </tr>\n",
              "    <tr>\n",
              "      <th>Transaction</th>\n",
              "      <th></th>\n",
              "      <th></th>\n",
              "      <th></th>\n",
              "      <th></th>\n",
              "      <th></th>\n",
              "      <th></th>\n",
              "      <th></th>\n",
              "      <th></th>\n",
              "      <th></th>\n",
              "      <th></th>\n",
              "      <th></th>\n",
              "      <th></th>\n",
              "      <th></th>\n",
              "      <th></th>\n",
              "      <th></th>\n",
              "      <th></th>\n",
              "      <th></th>\n",
              "      <th></th>\n",
              "      <th></th>\n",
              "      <th></th>\n",
              "      <th></th>\n",
              "    </tr>\n",
              "  </thead>\n",
              "  <tbody>\n",
              "    <tr>\n",
              "      <th>1</th>\n",
              "      <td>0</td>\n",
              "      <td>0</td>\n",
              "      <td>0</td>\n",
              "      <td>0</td>\n",
              "      <td>0</td>\n",
              "      <td>0</td>\n",
              "      <td>0</td>\n",
              "      <td>0</td>\n",
              "      <td>0</td>\n",
              "      <td>0</td>\n",
              "      <td>...</td>\n",
              "      <td>0</td>\n",
              "      <td>0</td>\n",
              "      <td>0</td>\n",
              "      <td>0</td>\n",
              "      <td>0</td>\n",
              "      <td>0</td>\n",
              "      <td>0</td>\n",
              "      <td>0</td>\n",
              "      <td>0</td>\n",
              "      <td>0</td>\n",
              "    </tr>\n",
              "    <tr>\n",
              "      <th>2</th>\n",
              "      <td>0</td>\n",
              "      <td>0</td>\n",
              "      <td>0</td>\n",
              "      <td>0</td>\n",
              "      <td>0</td>\n",
              "      <td>0</td>\n",
              "      <td>0</td>\n",
              "      <td>0</td>\n",
              "      <td>0</td>\n",
              "      <td>0</td>\n",
              "      <td>...</td>\n",
              "      <td>0</td>\n",
              "      <td>0</td>\n",
              "      <td>0</td>\n",
              "      <td>0</td>\n",
              "      <td>0</td>\n",
              "      <td>0</td>\n",
              "      <td>0</td>\n",
              "      <td>0</td>\n",
              "      <td>0</td>\n",
              "      <td>0</td>\n",
              "    </tr>\n",
              "    <tr>\n",
              "      <th>3</th>\n",
              "      <td>0</td>\n",
              "      <td>0</td>\n",
              "      <td>0</td>\n",
              "      <td>0</td>\n",
              "      <td>0</td>\n",
              "      <td>0</td>\n",
              "      <td>0</td>\n",
              "      <td>0</td>\n",
              "      <td>0</td>\n",
              "      <td>0</td>\n",
              "      <td>...</td>\n",
              "      <td>0</td>\n",
              "      <td>0</td>\n",
              "      <td>0</td>\n",
              "      <td>0</td>\n",
              "      <td>0</td>\n",
              "      <td>0</td>\n",
              "      <td>0</td>\n",
              "      <td>0</td>\n",
              "      <td>0</td>\n",
              "      <td>0</td>\n",
              "    </tr>\n",
              "    <tr>\n",
              "      <th>4</th>\n",
              "      <td>0</td>\n",
              "      <td>0</td>\n",
              "      <td>0</td>\n",
              "      <td>0</td>\n",
              "      <td>0</td>\n",
              "      <td>0</td>\n",
              "      <td>0</td>\n",
              "      <td>0</td>\n",
              "      <td>0</td>\n",
              "      <td>0</td>\n",
              "      <td>...</td>\n",
              "      <td>0</td>\n",
              "      <td>0</td>\n",
              "      <td>0</td>\n",
              "      <td>0</td>\n",
              "      <td>0</td>\n",
              "      <td>0</td>\n",
              "      <td>0</td>\n",
              "      <td>0</td>\n",
              "      <td>0</td>\n",
              "      <td>0</td>\n",
              "    </tr>\n",
              "    <tr>\n",
              "      <th>5</th>\n",
              "      <td>0</td>\n",
              "      <td>0</td>\n",
              "      <td>0</td>\n",
              "      <td>0</td>\n",
              "      <td>0</td>\n",
              "      <td>0</td>\n",
              "      <td>0</td>\n",
              "      <td>0</td>\n",
              "      <td>0</td>\n",
              "      <td>0</td>\n",
              "      <td>...</td>\n",
              "      <td>0</td>\n",
              "      <td>0</td>\n",
              "      <td>0</td>\n",
              "      <td>0</td>\n",
              "      <td>0</td>\n",
              "      <td>0</td>\n",
              "      <td>0</td>\n",
              "      <td>0</td>\n",
              "      <td>0</td>\n",
              "      <td>0</td>\n",
              "    </tr>\n",
              "  </tbody>\n",
              "</table>\n",
              "<p>5 rows × 95 columns</p>\n",
              "</div>"
            ],
            "text/plain": [
              "Item         adjustment  afternoon with the baker  alfajores  argentina night  \\\n",
              "Transaction                                                                     \n",
              "1                     0                         0          0                0   \n",
              "2                     0                         0          0                0   \n",
              "3                     0                         0          0                0   \n",
              "4                     0                         0          0                0   \n",
              "5                     0                         0          0                0   \n",
              "\n",
              "Item         art tray  bacon  baguette  bakewell  bare popcorn  basket  ...  \\\n",
              "Transaction                                                             ...   \n",
              "1                   0      0         0         0             0       0  ...   \n",
              "2                   0      0         0         0             0       0  ...   \n",
              "3                   0      0         0         0             0       0  ...   \n",
              "4                   0      0         0         0             0       0  ...   \n",
              "5                   0      0         0         0             0       0  ...   \n",
              "\n",
              "Item         the bart  the nomad  tiffin  toast  truffles  tshirt  \\\n",
              "Transaction                                                         \n",
              "1                   0          0       0      0         0       0   \n",
              "2                   0          0       0      0         0       0   \n",
              "3                   0          0       0      0         0       0   \n",
              "4                   0          0       0      0         0       0   \n",
              "5                   0          0       0      0         0       0   \n",
              "\n",
              "Item         valentine's card  vegan feast  vegan mincepie  victorian sponge  \n",
              "Transaction                                                                   \n",
              "1                           0            0               0                 0  \n",
              "2                           0            0               0                 0  \n",
              "3                           0            0               0                 0  \n",
              "4                           0            0               0                 0  \n",
              "5                           0            0               0                 0  \n",
              "\n",
              "[5 rows x 95 columns]"
            ]
          },
          "execution_count": 21,
          "metadata": {},
          "output_type": "execute_result"
        }
      ],
      "source": [
        "item_count_pivot = item_count_pivot.astype('int32')\n",
        "item_count_pivot.head()"
      ]
    },
    {
      "cell_type": "code",
      "execution_count": 22,
      "metadata": {
        "colab": {
          "base_uri": "https://localhost:8080/",
          "height": 0
        },
        "id": "kkZuM_aW6_6z",
        "outputId": "fe848574-17a9-49df-ad06-17245a7788ea"
      },
      "outputs": [
        {
          "data": {
            "text/html": [
              "<div>\n",
              "<style scoped>\n",
              "    .dataframe tbody tr th:only-of-type {\n",
              "        vertical-align: middle;\n",
              "    }\n",
              "\n",
              "    .dataframe tbody tr th {\n",
              "        vertical-align: top;\n",
              "    }\n",
              "\n",
              "    .dataframe thead th {\n",
              "        text-align: right;\n",
              "    }\n",
              "</style>\n",
              "<table border=\"1\" class=\"dataframe\">\n",
              "  <thead>\n",
              "    <tr style=\"text-align: right;\">\n",
              "      <th>Item</th>\n",
              "      <th>adjustment</th>\n",
              "      <th>afternoon with the baker</th>\n",
              "      <th>alfajores</th>\n",
              "      <th>argentina night</th>\n",
              "      <th>art tray</th>\n",
              "      <th>bacon</th>\n",
              "      <th>baguette</th>\n",
              "      <th>bakewell</th>\n",
              "      <th>bare popcorn</th>\n",
              "      <th>basket</th>\n",
              "      <th>...</th>\n",
              "      <th>the bart</th>\n",
              "      <th>the nomad</th>\n",
              "      <th>tiffin</th>\n",
              "      <th>toast</th>\n",
              "      <th>truffles</th>\n",
              "      <th>tshirt</th>\n",
              "      <th>valentine's card</th>\n",
              "      <th>vegan feast</th>\n",
              "      <th>vegan mincepie</th>\n",
              "      <th>victorian sponge</th>\n",
              "    </tr>\n",
              "    <tr>\n",
              "      <th>Transaction</th>\n",
              "      <th></th>\n",
              "      <th></th>\n",
              "      <th></th>\n",
              "      <th></th>\n",
              "      <th></th>\n",
              "      <th></th>\n",
              "      <th></th>\n",
              "      <th></th>\n",
              "      <th></th>\n",
              "      <th></th>\n",
              "      <th></th>\n",
              "      <th></th>\n",
              "      <th></th>\n",
              "      <th></th>\n",
              "      <th></th>\n",
              "      <th></th>\n",
              "      <th></th>\n",
              "      <th></th>\n",
              "      <th></th>\n",
              "      <th></th>\n",
              "      <th></th>\n",
              "    </tr>\n",
              "  </thead>\n",
              "  <tbody>\n",
              "    <tr>\n",
              "      <th>1</th>\n",
              "      <td>0</td>\n",
              "      <td>0</td>\n",
              "      <td>0</td>\n",
              "      <td>0</td>\n",
              "      <td>0</td>\n",
              "      <td>0</td>\n",
              "      <td>0</td>\n",
              "      <td>0</td>\n",
              "      <td>0</td>\n",
              "      <td>0</td>\n",
              "      <td>...</td>\n",
              "      <td>0</td>\n",
              "      <td>0</td>\n",
              "      <td>0</td>\n",
              "      <td>0</td>\n",
              "      <td>0</td>\n",
              "      <td>0</td>\n",
              "      <td>0</td>\n",
              "      <td>0</td>\n",
              "      <td>0</td>\n",
              "      <td>0</td>\n",
              "    </tr>\n",
              "    <tr>\n",
              "      <th>2</th>\n",
              "      <td>0</td>\n",
              "      <td>0</td>\n",
              "      <td>0</td>\n",
              "      <td>0</td>\n",
              "      <td>0</td>\n",
              "      <td>0</td>\n",
              "      <td>0</td>\n",
              "      <td>0</td>\n",
              "      <td>0</td>\n",
              "      <td>0</td>\n",
              "      <td>...</td>\n",
              "      <td>0</td>\n",
              "      <td>0</td>\n",
              "      <td>0</td>\n",
              "      <td>0</td>\n",
              "      <td>0</td>\n",
              "      <td>0</td>\n",
              "      <td>0</td>\n",
              "      <td>0</td>\n",
              "      <td>0</td>\n",
              "      <td>0</td>\n",
              "    </tr>\n",
              "    <tr>\n",
              "      <th>3</th>\n",
              "      <td>0</td>\n",
              "      <td>0</td>\n",
              "      <td>0</td>\n",
              "      <td>0</td>\n",
              "      <td>0</td>\n",
              "      <td>0</td>\n",
              "      <td>0</td>\n",
              "      <td>0</td>\n",
              "      <td>0</td>\n",
              "      <td>0</td>\n",
              "      <td>...</td>\n",
              "      <td>0</td>\n",
              "      <td>0</td>\n",
              "      <td>0</td>\n",
              "      <td>0</td>\n",
              "      <td>0</td>\n",
              "      <td>0</td>\n",
              "      <td>0</td>\n",
              "      <td>0</td>\n",
              "      <td>0</td>\n",
              "      <td>0</td>\n",
              "    </tr>\n",
              "    <tr>\n",
              "      <th>4</th>\n",
              "      <td>0</td>\n",
              "      <td>0</td>\n",
              "      <td>0</td>\n",
              "      <td>0</td>\n",
              "      <td>0</td>\n",
              "      <td>0</td>\n",
              "      <td>0</td>\n",
              "      <td>0</td>\n",
              "      <td>0</td>\n",
              "      <td>0</td>\n",
              "      <td>...</td>\n",
              "      <td>0</td>\n",
              "      <td>0</td>\n",
              "      <td>0</td>\n",
              "      <td>0</td>\n",
              "      <td>0</td>\n",
              "      <td>0</td>\n",
              "      <td>0</td>\n",
              "      <td>0</td>\n",
              "      <td>0</td>\n",
              "      <td>0</td>\n",
              "    </tr>\n",
              "    <tr>\n",
              "      <th>5</th>\n",
              "      <td>0</td>\n",
              "      <td>0</td>\n",
              "      <td>0</td>\n",
              "      <td>0</td>\n",
              "      <td>0</td>\n",
              "      <td>0</td>\n",
              "      <td>0</td>\n",
              "      <td>0</td>\n",
              "      <td>0</td>\n",
              "      <td>0</td>\n",
              "      <td>...</td>\n",
              "      <td>0</td>\n",
              "      <td>0</td>\n",
              "      <td>0</td>\n",
              "      <td>0</td>\n",
              "      <td>0</td>\n",
              "      <td>0</td>\n",
              "      <td>0</td>\n",
              "      <td>0</td>\n",
              "      <td>0</td>\n",
              "      <td>0</td>\n",
              "    </tr>\n",
              "  </tbody>\n",
              "</table>\n",
              "<p>5 rows × 95 columns</p>\n",
              "</div>"
            ],
            "text/plain": [
              "Item         adjustment  afternoon with the baker  alfajores  argentina night  \\\n",
              "Transaction                                                                     \n",
              "1                     0                         0          0                0   \n",
              "2                     0                         0          0                0   \n",
              "3                     0                         0          0                0   \n",
              "4                     0                         0          0                0   \n",
              "5                     0                         0          0                0   \n",
              "\n",
              "Item         art tray  bacon  baguette  bakewell  bare popcorn  basket  ...  \\\n",
              "Transaction                                                             ...   \n",
              "1                   0      0         0         0             0       0  ...   \n",
              "2                   0      0         0         0             0       0  ...   \n",
              "3                   0      0         0         0             0       0  ...   \n",
              "4                   0      0         0         0             0       0  ...   \n",
              "5                   0      0         0         0             0       0  ...   \n",
              "\n",
              "Item         the bart  the nomad  tiffin  toast  truffles  tshirt  \\\n",
              "Transaction                                                         \n",
              "1                   0          0       0      0         0       0   \n",
              "2                   0          0       0      0         0       0   \n",
              "3                   0          0       0      0         0       0   \n",
              "4                   0          0       0      0         0       0   \n",
              "5                   0          0       0      0         0       0   \n",
              "\n",
              "Item         valentine's card  vegan feast  vegan mincepie  victorian sponge  \n",
              "Transaction                                                                   \n",
              "1                           0            0               0                 0  \n",
              "2                           0            0               0                 0  \n",
              "3                           0            0               0                 0  \n",
              "4                           0            0               0                 0  \n",
              "5                           0            0               0                 0  \n",
              "\n",
              "[5 rows x 95 columns]"
            ]
          },
          "execution_count": 22,
          "metadata": {},
          "output_type": "execute_result"
        }
      ],
      "source": [
        "def encode(x):\n",
        "  if x <=0:\n",
        "    return 0\n",
        "  elif x >= 0:\n",
        "    return 1\n",
        "\n",
        "item_count_pivot = item_count_pivot.applymap(encode)\n",
        "item_count_pivot.head()"
      ]
    },
    {
      "cell_type": "code",
      "execution_count": 23,
      "metadata": {
        "colab": {
          "base_uri": "https://localhost:8080/"
        },
        "id": "vMIaUI7Z7Dge",
        "outputId": "ae6e0d7b-7f56-4744-bebb-5108f9207d26"
      },
      "outputs": [
        {
          "name": "stdout",
          "output_type": "stream",
          "text": [
            "Ukuran Dataset (9531, 95)\n",
            "Jumlah Transaksi 9531\n",
            "Jumlah Item 95\n"
          ]
        }
      ],
      "source": [
        "print(\"Ukuran Dataset\", item_count_pivot.shape)\n",
        "print(\"Jumlah Transaksi\", item_count_pivot.shape[0])\n",
        "print(\"Jumlah Item\", item_count_pivot.shape[1])"
      ]
    },
    {
      "cell_type": "markdown",
      "metadata": {
        "id": "jQirnKzT7JIZ"
      },
      "source": [
        "# Modelling"
      ]
    },
    {
      "cell_type": "code",
      "execution_count": 24,
      "metadata": {
        "colab": {
          "base_uri": "https://localhost:8080/",
          "height": 0
        },
        "id": "MoHZtySs7KEY",
        "outputId": "b870aefe-4019-4b7f-d6a5-0e1e8a0d2cae"
      },
      "outputs": [
        {
          "name": "stderr",
          "output_type": "stream",
          "text": [
            "c:\\Users\\yogib\\anaconda3\\Lib\\site-packages\\mlxtend\\frequent_patterns\\fpcommon.py:109: DeprecationWarning: DataFrames with non-bool types result in worse computationalperformance and their support might be discontinued in the future.Please use a DataFrame with bool type\n",
            "  warnings.warn(\n"
          ]
        },
        {
          "data": {
            "text/html": [
              "<div>\n",
              "<style scoped>\n",
              "    .dataframe tbody tr th:only-of-type {\n",
              "        vertical-align: middle;\n",
              "    }\n",
              "\n",
              "    .dataframe tbody tr th {\n",
              "        vertical-align: top;\n",
              "    }\n",
              "\n",
              "    .dataframe thead th {\n",
              "        text-align: right;\n",
              "    }\n",
              "</style>\n",
              "<table border=\"1\" class=\"dataframe\">\n",
              "  <thead>\n",
              "    <tr style=\"text-align: right;\">\n",
              "      <th></th>\n",
              "      <th>support</th>\n",
              "      <th>itemsets</th>\n",
              "    </tr>\n",
              "  </thead>\n",
              "  <tbody>\n",
              "    <tr>\n",
              "      <th>6</th>\n",
              "      <td>0.475081</td>\n",
              "      <td>(coffee)</td>\n",
              "    </tr>\n",
              "    <tr>\n",
              "      <th>2</th>\n",
              "      <td>0.324940</td>\n",
              "      <td>(bread)</td>\n",
              "    </tr>\n",
              "    <tr>\n",
              "      <th>27</th>\n",
              "      <td>0.141643</td>\n",
              "      <td>(tea)</td>\n",
              "    </tr>\n",
              "    <tr>\n",
              "      <th>4</th>\n",
              "      <td>0.103137</td>\n",
              "      <td>(cake)</td>\n",
              "    </tr>\n",
              "    <tr>\n",
              "      <th>35</th>\n",
              "      <td>0.089393</td>\n",
              "      <td>(bread, coffee)</td>\n",
              "    </tr>\n",
              "    <tr>\n",
              "      <th>20</th>\n",
              "      <td>0.085510</td>\n",
              "      <td>(pastry)</td>\n",
              "    </tr>\n",
              "    <tr>\n",
              "      <th>19</th>\n",
              "      <td>0.079005</td>\n",
              "      <td>(none)</td>\n",
              "    </tr>\n",
              "    <tr>\n",
              "      <th>22</th>\n",
              "      <td>0.071346</td>\n",
              "      <td>(sandwich)</td>\n",
              "    </tr>\n",
              "    <tr>\n",
              "      <th>16</th>\n",
              "      <td>0.061379</td>\n",
              "      <td>(medialuna)</td>\n",
              "    </tr>\n",
              "    <tr>\n",
              "      <th>12</th>\n",
              "      <td>0.057916</td>\n",
              "      <td>(hot chocolate)</td>\n",
              "    </tr>\n",
              "  </tbody>\n",
              "</table>\n",
              "</div>"
            ],
            "text/plain": [
              "     support         itemsets\n",
              "6   0.475081         (coffee)\n",
              "2   0.324940          (bread)\n",
              "27  0.141643            (tea)\n",
              "4   0.103137           (cake)\n",
              "35  0.089393  (bread, coffee)\n",
              "20  0.085510         (pastry)\n",
              "19  0.079005           (none)\n",
              "22  0.071346       (sandwich)\n",
              "16  0.061379      (medialuna)\n",
              "12  0.057916  (hot chocolate)"
            ]
          },
          "execution_count": 24,
          "metadata": {},
          "output_type": "execute_result"
        }
      ],
      "source": [
        "support = 0.01\n",
        "frequent_items = apriori(item_count_pivot, min_support=support, use_colnames=True)\n",
        "frequent_items.sort_values('support', ascending=False).head(10)"
      ]
    },
    {
      "cell_type": "code",
      "execution_count": 25,
      "metadata": {
        "colab": {
          "base_uri": "https://localhost:8080/",
          "height": 0
        },
        "id": "jia0XYuj7NIc",
        "outputId": "c8cc7d8a-59a8-41a9-e3e7-30ea01589921"
      },
      "outputs": [
        {
          "data": {
            "text/html": [
              "<div>\n",
              "<style scoped>\n",
              "    .dataframe tbody tr th:only-of-type {\n",
              "        vertical-align: middle;\n",
              "    }\n",
              "\n",
              "    .dataframe tbody tr th {\n",
              "        vertical-align: top;\n",
              "    }\n",
              "\n",
              "    .dataframe thead th {\n",
              "        text-align: right;\n",
              "    }\n",
              "</style>\n",
              "<table border=\"1\" class=\"dataframe\">\n",
              "  <thead>\n",
              "    <tr style=\"text-align: right;\">\n",
              "      <th></th>\n",
              "      <th>antecedents</th>\n",
              "      <th>consequents</th>\n",
              "      <th>support</th>\n",
              "      <th>confidence</th>\n",
              "      <th>lift</th>\n",
              "    </tr>\n",
              "  </thead>\n",
              "  <tbody>\n",
              "    <tr>\n",
              "      <th>33</th>\n",
              "      <td>(toast)</td>\n",
              "      <td>(coffee)</td>\n",
              "      <td>0.023502</td>\n",
              "      <td>0.704403</td>\n",
              "      <td>1.482699</td>\n",
              "    </tr>\n",
              "    <tr>\n",
              "      <th>31</th>\n",
              "      <td>(spanish brunch)</td>\n",
              "      <td>(coffee)</td>\n",
              "      <td>0.010807</td>\n",
              "      <td>0.598837</td>\n",
              "      <td>1.260494</td>\n",
              "    </tr>\n",
              "    <tr>\n",
              "      <th>19</th>\n",
              "      <td>(medialuna)</td>\n",
              "      <td>(coffee)</td>\n",
              "      <td>0.034939</td>\n",
              "      <td>0.569231</td>\n",
              "      <td>1.198175</td>\n",
              "    </tr>\n",
              "    <tr>\n",
              "      <th>25</th>\n",
              "      <td>(pastry)</td>\n",
              "      <td>(coffee)</td>\n",
              "      <td>0.047214</td>\n",
              "      <td>0.552147</td>\n",
              "      <td>1.162216</td>\n",
              "    </tr>\n",
              "    <tr>\n",
              "      <th>0</th>\n",
              "      <td>(alfajores)</td>\n",
              "      <td>(coffee)</td>\n",
              "      <td>0.019515</td>\n",
              "      <td>0.540698</td>\n",
              "      <td>1.138116</td>\n",
              "    </tr>\n",
              "    <tr>\n",
              "      <th>17</th>\n",
              "      <td>(juice)</td>\n",
              "      <td>(coffee)</td>\n",
              "      <td>0.020460</td>\n",
              "      <td>0.534247</td>\n",
              "      <td>1.124537</td>\n",
              "    </tr>\n",
              "    <tr>\n",
              "      <th>23</th>\n",
              "      <td>(none)</td>\n",
              "      <td>(coffee)</td>\n",
              "      <td>0.042073</td>\n",
              "      <td>0.532537</td>\n",
              "      <td>1.120938</td>\n",
              "    </tr>\n",
              "    <tr>\n",
              "      <th>26</th>\n",
              "      <td>(sandwich)</td>\n",
              "      <td>(coffee)</td>\n",
              "      <td>0.037981</td>\n",
              "      <td>0.532353</td>\n",
              "      <td>1.120551</td>\n",
              "    </tr>\n",
              "    <tr>\n",
              "      <th>7</th>\n",
              "      <td>(cake)</td>\n",
              "      <td>(coffee)</td>\n",
              "      <td>0.054349</td>\n",
              "      <td>0.526958</td>\n",
              "      <td>1.109196</td>\n",
              "    </tr>\n",
              "    <tr>\n",
              "      <th>29</th>\n",
              "      <td>(scone)</td>\n",
              "      <td>(coffee)</td>\n",
              "      <td>0.017941</td>\n",
              "      <td>0.522936</td>\n",
              "      <td>1.100729</td>\n",
              "    </tr>\n",
              "    <tr>\n",
              "      <th>13</th>\n",
              "      <td>(cookies)</td>\n",
              "      <td>(coffee)</td>\n",
              "      <td>0.028014</td>\n",
              "      <td>0.518447</td>\n",
              "      <td>1.091280</td>\n",
              "    </tr>\n",
              "    <tr>\n",
              "      <th>15</th>\n",
              "      <td>(hot chocolate)</td>\n",
              "      <td>(coffee)</td>\n",
              "      <td>0.029378</td>\n",
              "      <td>0.507246</td>\n",
              "      <td>1.067704</td>\n",
              "    </tr>\n",
              "    <tr>\n",
              "      <th>5</th>\n",
              "      <td>(brownie)</td>\n",
              "      <td>(coffee)</td>\n",
              "      <td>0.019515</td>\n",
              "      <td>0.490765</td>\n",
              "      <td>1.033013</td>\n",
              "    </tr>\n",
              "    <tr>\n",
              "      <th>21</th>\n",
              "      <td>(muffin)</td>\n",
              "      <td>(coffee)</td>\n",
              "      <td>0.018676</td>\n",
              "      <td>0.489011</td>\n",
              "      <td>1.029321</td>\n",
              "    </tr>\n",
              "    <tr>\n",
              "      <th>3</th>\n",
              "      <td>(pastry)</td>\n",
              "      <td>(bread)</td>\n",
              "      <td>0.028958</td>\n",
              "      <td>0.338650</td>\n",
              "      <td>1.042194</td>\n",
              "    </tr>\n",
              "  </tbody>\n",
              "</table>\n",
              "</div>"
            ],
            "text/plain": [
              "         antecedents consequents   support  confidence      lift\n",
              "33           (toast)    (coffee)  0.023502    0.704403  1.482699\n",
              "31  (spanish brunch)    (coffee)  0.010807    0.598837  1.260494\n",
              "19       (medialuna)    (coffee)  0.034939    0.569231  1.198175\n",
              "25          (pastry)    (coffee)  0.047214    0.552147  1.162216\n",
              "0        (alfajores)    (coffee)  0.019515    0.540698  1.138116\n",
              "17           (juice)    (coffee)  0.020460    0.534247  1.124537\n",
              "23            (none)    (coffee)  0.042073    0.532537  1.120938\n",
              "26        (sandwich)    (coffee)  0.037981    0.532353  1.120551\n",
              "7             (cake)    (coffee)  0.054349    0.526958  1.109196\n",
              "29           (scone)    (coffee)  0.017941    0.522936  1.100729\n",
              "13         (cookies)    (coffee)  0.028014    0.518447  1.091280\n",
              "15   (hot chocolate)    (coffee)  0.029378    0.507246  1.067704\n",
              "5          (brownie)    (coffee)  0.019515    0.490765  1.033013\n",
              "21          (muffin)    (coffee)  0.018676    0.489011  1.029321\n",
              "3           (pastry)     (bread)  0.028958    0.338650  1.042194"
            ]
          },
          "execution_count": 25,
          "metadata": {},
          "output_type": "execute_result"
        }
      ],
      "source": [
        "metric =\"lift\"\n",
        "min_threshold = 1\n",
        "\n",
        "rules = association_rules(frequent_items, metric=metric, min_threshold=min_threshold)[['antecedents','consequents','support','confidence','lift']]\n",
        "rules.sort_values('confidence', ascending=False,inplace=True)\n",
        "rules.head(15)"
      ]
    },
    {
      "cell_type": "markdown",
      "metadata": {
        "id": "ZdCrO_ec7zJT"
      },
      "source": [
        "# Kesimpulan"
      ]
    },
    {
      "cell_type": "markdown",
      "metadata": {
        "id": "8aeMNzSy74SZ"
      },
      "source": [
        "Dengan ini kita dapat menarik kesimpulan bahwa toko ini dapat menerapkan diskon atau paket pembelian untuk produk coffee dan toast pada hari Sabtu disekitar jam 12"
      ]
    }
  ],
  "metadata": {
    "colab": {
      "collapsed_sections": [
        "YqBAh-HG2G1s",
        "zCLPgWFR2dH2",
        "eduAlGs_2tX2",
        "WFs3USVe36n0",
        "q0c7Mhk64pVe",
        "jQirnKzT7JIZ",
        "ZdCrO_ec7zJT"
      ],
      "provenance": []
    },
    "kernelspec": {
      "display_name": "Python 3",
      "name": "python3"
    },
    "language_info": {
      "codemirror_mode": {
        "name": "ipython",
        "version": 3
      },
      "file_extension": ".py",
      "mimetype": "text/x-python",
      "name": "python",
      "nbconvert_exporter": "python",
      "pygments_lexer": "ipython3",
      "version": "3.11.7"
    }
  },
  "nbformat": 4,
  "nbformat_minor": 0
}
